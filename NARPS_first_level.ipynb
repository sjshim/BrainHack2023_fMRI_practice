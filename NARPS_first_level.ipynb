{
 "cells": [
  {
   "cell_type": "markdown",
   "id": "0ec9b1ed",
   "metadata": {},
   "source": [
    "Now we have data from OpenNeuro in BIDS format, including derivatives such as preprocessed images and confounds(fMRIPrep).\n",
    "You can look around in the directory to see what files are in our dataset."
   ]
  },
  {
   "cell_type": "code",
   "execution_count": 1,
   "id": "e8b6672f",
   "metadata": {},
   "outputs": [
    {
     "name": "stderr",
     "output_type": "stream",
     "text": [
      "/Users/sunjaeshim/opt/anaconda3/lib/python3.8/site-packages/nilearn/glm/__init__.py:55: FutureWarning: The nilearn.glm module is experimental. It may change in any future release of Nilearn.\n",
      "  warn('The nilearn.glm module is experimental. '\n"
     ]
    }
   ],
   "source": [
    "import os\n",
    "import glob\n",
    "import nilearn\n",
    "import json\n",
    "import pandas as pd\n",
    "from nilearn.glm.first_level import FirstLevelModel\n",
    "import datalad.api as dl"
   ]
  },
  {
   "cell_type": "code",
   "execution_count": 2,
   "id": "3e8b40e5",
   "metadata": {},
   "outputs": [],
   "source": [
    "bids_dir = '/Users/sunjaeshim/Documents/GitHub/BrainHack2023_fMRI_practice/ds001734/'\n",
    "fmriprep_dir = bids_dir + 'derivatives/fmriprep/'\n",
    "\n",
    "#You can change the subjects you want to analyze.\n",
    "some_subjects = ['sub-001', 'sub-002', 'sub-003']\n",
    "#If you want to analyze all data, you can save all subject ids in this dataset by using glob\n",
    "all_files = glob.glob(bids_dir+'sub-*')\n",
    "all_subjects = sorted([os.path.basename(i) for i in all_files])"
   ]
  },
  {
   "cell_type": "markdown",
   "id": "498b51eb",
   "metadata": {},
   "source": [
    "We will need event files, preprocessed images files, brain mask files, and confound files in order to build our design matrix. You can create a function to get the corresponding files. Note that there are several runs per subject, so make sure you are organizing the correct files together."
   ]
  },
  {
   "cell_type": "code",
   "execution_count": 3,
   "id": "a71e3c36",
   "metadata": {},
   "outputs": [],
   "source": [
    "def get_files(sub, run):\n",
    "    run = str(run)\n",
    "    \n",
    "    event_file = glob.glob(bids_dir+sub+f'/func/*run-0{run}*.tsv')[0]\n",
    "    \n",
    "    func_file = glob.glob(fmriprep_dir+sub+f'/func/*task-MGT*run-0{run}*preproc.nii.gz')[0]\n",
    "    \n",
    "    mask_file = glob.glob(fmriprep_dir+sub+f'/func/*task-MGT*run-0{run}*brainmask.nii.gz')[0]\n",
    "    \n",
    "    confounds_file = glob.glob(fmriprep_dir+sub+f'/func/*task-MGT*run-0{run}*confounds*')[0]\n",
    "    return event_file, func_file, mask_file, confounds_file"
   ]
  },
  {
   "cell_type": "markdown",
   "id": "bdadeee9",
   "metadata": {},
   "source": [
    "We will also need to know the TR (repetition time) of the scans. You can get this information from the BIDS scan json file"
   ]
  },
  {
   "cell_type": "code",
   "execution_count": 4,
   "id": "76b285a1",
   "metadata": {},
   "outputs": [],
   "source": [
    "def get_tr(bids_dir):\n",
    "    json_file = glob.glob(bids_dir+'*task*.json')[0]\n",
    "    f = open(json_file)\n",
    "    data = json.load(f)\n",
    "    print(data)\n",
    "    tr = data['RepetitionTime']\n",
    "    return tr"
   ]
  },
  {
   "cell_type": "markdown",
   "id": "2178749f",
   "metadata": {},
   "source": [
    "You can choose which confound regressors to add to the analysis. You can take a look at the confounds output to evaluate what you would include to denoise the scans. \n",
    "\n",
    "More information about confound outputs from fMRIPrep: https://fmriprep.org/en/stable/outputs.html#confounds"
   ]
  },
  {
   "cell_type": "code",
   "execution_count": 5,
   "id": "18b80dca",
   "metadata": {},
   "outputs": [],
   "source": [
    "def get_confounds(confounds_file):\n",
    "    confounds_df = pd.read_csv(confounds_file, sep='\\t')\n",
    "    #These are the very basic confounds most recommend. Adding the derivatives of these may also improve\n",
    "    #Newer versions of fMRIPrep gives you derivatives\n",
    "    #Note if you add CompCor components, you also should use the fMRIPrep cosine regressors instead of nilearn's\n",
    "    confounds_df  = confounds_df[['FramewiseDisplacement', 'X', 'Y', 'Z', 'RotX', 'RotY', 'RotZ']]\n",
    "    \n",
    "    return confounds_df"
   ]
  },
  {
   "cell_type": "code",
   "execution_count": null,
   "id": "c72598f9",
   "metadata": {},
   "outputs": [],
   "source": [
    "tr = get_tr(bids_dir)\n",
    "for sub in some_subjects:\n",
    "    for i in range(1,5):\n",
    "        event_file, func_file, mask_file, confounds_file = get_files(sub, i)\n",
    "        dl.get(event_file)\n",
    "        print(event_file)\n",
    "        dl.get(func_file) \n",
    "        print(func_file)\n",
    "        dl.get(mask_file)\n",
    "        print(mask_file)\n",
    "        dl.get(confounds_file)\n",
    "        events = pd.read_csv(event_file, sep='\\t')[['participant_response', 'onset', 'duration']]\n",
    "        events.rename(columns = {'participant_response':'trial_type'}, inplace=True)\n",
    "        events.dropna(inplace=True)\n",
    "        confounds = get_confounds(confounds_file)\n",
    "        first_level_model = FirstLevelModel(tr, hrf_model = 'spm + derivative')\n",
    "        first_level_model = first_level_model.fit(func_file, events=events, confounds=confounds)\n",
    "        design_matrix = first_level_model.design_matrices_[0]"
   ]
  },
  {
   "cell_type": "code",
   "execution_count": null,
   "id": "b59309d4",
   "metadata": {},
   "outputs": [],
   "source": [
    "design_matrix"
   ]
  },
  {
   "cell_type": "code",
   "execution_count": null,
   "id": "2f66a180",
   "metadata": {},
   "outputs": [],
   "source": []
  }
 ],
 "metadata": {
  "kernelspec": {
   "display_name": "Python 3",
   "language": "python",
   "name": "python3"
  },
  "language_info": {
   "codemirror_mode": {
    "name": "ipython",
    "version": 3
   },
   "file_extension": ".py",
   "mimetype": "text/x-python",
   "name": "python",
   "nbconvert_exporter": "python",
   "pygments_lexer": "ipython3",
   "version": "3.8.8"
  }
 },
 "nbformat": 4,
 "nbformat_minor": 5
}
